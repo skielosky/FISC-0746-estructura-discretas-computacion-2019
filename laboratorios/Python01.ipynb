{
  "nbformat": 4,
  "nbformat_minor": 0,
  "metadata": {
    "colab": {
      "name": "Python01.ipynb",
      "version": "0.3.2",
      "provenance": []
    },
    "kernelspec": {
      "name": "python3",
      "display_name": "Python 3"
    }
  },
  "cells": [
    {
      "metadata": {
        "id": "_gmZI7D4giEZ",
        "colab_type": "text"
      },
      "cell_type": "markdown",
      "source": [
        "#UNIVERSIDAD TECNOLÓGICA DE PANAMÁ\n",
        "##FACULTAD DE INGENIERÍA DE SISTEMAS COMPUTACIONALES\n",
        "##DEPARTAMENTO DE COMPUTACIÓN Y SIMULACIÓN DE SISTEMAS\n",
        "\n",
        "##ESTRUCTURAS DISCRETAS PARA LA COMPUTACIÓN\n",
        "\n",
        "## Profesor: Ezequiel Aguilar González\n",
        "\n"
      ]
    },
    {
      "metadata": {
        "id": "VBhLRiBJyi1B",
        "colab_type": "text"
      },
      "cell_type": "markdown",
      "source": [
        "## Inicializar un conjunto"
      ]
    },
    {
      "metadata": {
        "id": "aOSvH0zmyobi",
        "colab_type": "code",
        "colab": {}
      },
      "cell_type": "code",
      "source": [
        "vacioSet = set()"
      ],
      "execution_count": 0,
      "outputs": []
    },
    {
      "metadata": {
        "id": "qlQxp4LFywQ3",
        "colab_type": "text"
      },
      "cell_type": "markdown",
      "source": [
        "## Inicializar con valores\n"
      ]
    },
    {
      "metadata": {
        "id": "wgcDg3_4y01T",
        "colab_type": "code",
        "colab": {}
      },
      "cell_type": "code",
      "source": [
        "dataScientist = set(['Python', 'R', 'SQL', 'Git', 'Tableau', 'SAS'])\n",
        "dataEngineer = set(['Python', 'Java', 'Scala', 'Git', 'SQL', 'Hadoop'])"
      ],
      "execution_count": 0,
      "outputs": []
    },
    {
      "metadata": {
        "id": "wQh9ePlKy7ch",
        "colab_type": "text"
      },
      "cell_type": "markdown",
      "source": [
        "## Asignación: Imprimir los valores de dataScientist y dataEngineer"
      ]
    },
    {
      "metadata": {
        "id": "IIBmCwLHzEWo",
        "colab_type": "code",
        "colab": {}
      },
      "cell_type": "code",
      "source": [
        ""
      ],
      "execution_count": 0,
      "outputs": []
    },
    {
      "metadata": {
        "id": "0n6c9h8IzGWv",
        "colab_type": "code",
        "colab": {}
      },
      "cell_type": "code",
      "source": [
        ""
      ],
      "execution_count": 0,
      "outputs": []
    },
    {
      "metadata": {
        "id": "ssjqd7GFzEuw",
        "colab_type": "text"
      },
      "cell_type": "markdown",
      "source": [
        "## Otra forma de inicialización\n"
      ]
    },
    {
      "metadata": {
        "id": "tH_7F-aOzR5i",
        "colab_type": "code",
        "colab": {}
      },
      "cell_type": "code",
      "source": [
        "dataScientist = {'Python', 'R', 'SQL', 'Git', 'Tableau', 'SAS'}\n",
        "dataEngineer = {'Python', 'Java', 'Scala', 'Git', 'SQL', 'Hadoop'}"
      ],
      "execution_count": 0,
      "outputs": []
    },
    {
      "metadata": {
        "id": "YOpWKoxUzWAF",
        "colab_type": "text"
      },
      "cell_type": "markdown",
      "source": [
        "## Agregar o remover elementos"
      ]
    },
    {
      "metadata": {
        "id": "2G7pbZGKzgZS",
        "colab_type": "code",
        "colab": {}
      },
      "cell_type": "code",
      "source": [
        "graphicDesigner = {'InDesign', 'Photoshop', 'Acrobat', 'Premiere', 'Bridge'}"
      ],
      "execution_count": 0,
      "outputs": []
    },
    {
      "metadata": {
        "id": "J4T1l18rzmfz",
        "colab_type": "text"
      },
      "cell_type": "markdown",
      "source": [
        "### Agregar valores\n"
      ]
    },
    {
      "metadata": {
        "id": "qLukEDnyzj1g",
        "colab_type": "code",
        "colab": {}
      },
      "cell_type": "code",
      "source": [
        "graphicDesigner.add('Illustrator')"
      ],
      "execution_count": 0,
      "outputs": []
    },
    {
      "metadata": {
        "id": "UIRT4OAgzvof",
        "colab_type": "code",
        "colab": {}
      },
      "cell_type": "code",
      "source": [
        "graphicDesigner.remove('Illustrator')"
      ],
      "execution_count": 0,
      "outputs": []
    },
    {
      "metadata": {
        "id": "KShWz0niz2RK",
        "colab_type": "code",
        "colab": {}
      },
      "cell_type": "code",
      "source": [
        "graphicDesigner.clear()"
      ],
      "execution_count": 0,
      "outputs": []
    },
    {
      "metadata": {
        "id": "caENBLRiz6Bl",
        "colab_type": "code",
        "colab": {}
      },
      "cell_type": "code",
      "source": [
        "dataScientist = {'Python', 'R', 'SQL', 'Git', 'Tableau', 'SAS'}\n",
        "\n",
        "for skill in dataScientist:\n",
        "    print(skill)"
      ],
      "execution_count": 0,
      "outputs": []
    },
    {
      "metadata": {
        "id": "G8rNKN4dz7WX",
        "colab_type": "code",
        "colab": {
          "base_uri": "https://localhost:8080/",
          "height": 36
        },
        "outputId": "e1f37a96-a4b9-49ed-daef-ebebae056e35"
      },
      "cell_type": "code",
      "source": [
        "sorted(dataScientist, reverse = True)"
      ],
      "execution_count": 8,
      "outputs": [
        {
          "output_type": "execute_result",
          "data": {
            "text/plain": [
              "['Tableau', 'SQL', 'SAS', 'R', 'Python', 'Git']"
            ]
          },
          "metadata": {
            "tags": []
          },
          "execution_count": 8
        }
      ]
    },
    {
      "metadata": {
        "id": "kF1UCX4J0HqH",
        "colab_type": "code",
        "colab": {}
      },
      "cell_type": "code",
      "source": [
        "dataScientist = set(['Python', 'R', 'SQL', 'Git', 'Tableau', 'SAS'])\n",
        "dataEngineer = set(['Python', 'Java', 'Scala', 'Git', 'SQL', 'Hadoop'])"
      ],
      "execution_count": 0,
      "outputs": []
    },
    {
      "metadata": {
        "id": "4WSpEtkR0Pzh",
        "colab_type": "code",
        "colab": {
          "base_uri": "https://localhost:8080/",
          "height": 36
        },
        "outputId": "24a03682-2ccd-4b7a-b1ce-dda775bb868f"
      },
      "cell_type": "code",
      "source": [
        "\n",
        "dataScientist.union(dataEngineer)\n",
        "\n",
        "dataScientist | dataEngineer"
      ],
      "execution_count": 11,
      "outputs": [
        {
          "output_type": "execute_result",
          "data": {
            "text/plain": [
              "{'Git', 'Hadoop', 'Java', 'Python', 'R', 'SAS', 'SQL', 'Scala', 'Tableau'}"
            ]
          },
          "metadata": {
            "tags": []
          },
          "execution_count": 11
        }
      ]
    },
    {
      "metadata": {
        "id": "0-lwL_6m0XTw",
        "colab_type": "code",
        "colab": {
          "base_uri": "https://localhost:8080/",
          "height": 36
        },
        "outputId": "9e5ba66a-d03d-4027-931d-f84802dd81c0"
      },
      "cell_type": "code",
      "source": [
        "# Intersection operation\n",
        "dataScientist.intersection(dataEngineer)\n",
        "\n",
        "# Equivalent Result\n",
        "dataScientist & dataEngineer"
      ],
      "execution_count": 12,
      "outputs": [
        {
          "output_type": "execute_result",
          "data": {
            "text/plain": [
              "{'Git', 'Python', 'SQL'}"
            ]
          },
          "metadata": {
            "tags": []
          },
          "execution_count": 12
        }
      ]
    },
    {
      "metadata": {
        "id": "Eiwkz2eq0c2_",
        "colab_type": "code",
        "colab": {
          "base_uri": "https://localhost:8080/",
          "height": 36
        },
        "outputId": "ed16cee5-6acb-449b-cc83-26037aac261e"
      },
      "cell_type": "code",
      "source": [
        "# Initialize a set\n",
        "graphicDesigner = {'Illustrator', 'InDesign', 'Photoshop'}\n",
        "\n",
        "# These sets have elements in common so it would return False\n",
        "dataScientist.isdisjoint(dataEngineer)\n",
        "\n",
        "# These sets have no elements in common so it would return True\n",
        "dataScientist.isdisjoint(graphicDesigner)"
      ],
      "execution_count": 13,
      "outputs": [
        {
          "output_type": "execute_result",
          "data": {
            "text/plain": [
              "True"
            ]
          },
          "metadata": {
            "tags": []
          },
          "execution_count": 13
        }
      ]
    },
    {
      "metadata": {
        "id": "tpkuheqT0ghB",
        "colab_type": "code",
        "colab": {
          "base_uri": "https://localhost:8080/",
          "height": 36
        },
        "outputId": "409e7345-efe1-4c5b-d5c8-d12bca296932"
      },
      "cell_type": "code",
      "source": [
        "# Difference Operation\n",
        "dataScientist.difference(dataEngineer)\n",
        "\n",
        "# Equivalent Result\n",
        "dataScientist - dataEngineer"
      ],
      "execution_count": 14,
      "outputs": [
        {
          "output_type": "execute_result",
          "data": {
            "text/plain": [
              "{'R', 'SAS', 'Tableau'}"
            ]
          },
          "metadata": {
            "tags": []
          },
          "execution_count": 14
        }
      ]
    },
    {
      "metadata": {
        "id": "EhweEtDs0jzD",
        "colab_type": "code",
        "colab": {
          "base_uri": "https://localhost:8080/",
          "height": 36
        },
        "outputId": "3c41e557-4946-41a4-8782-8bc58e404508"
      },
      "cell_type": "code",
      "source": [
        "# Symmetric Difference Operation\n",
        "dataScientist.symmetric_difference(dataEngineer)\n",
        "\n",
        "# Equivalent Result\n",
        "dataScientist ^ dataEngineer"
      ],
      "execution_count": 15,
      "outputs": [
        {
          "output_type": "execute_result",
          "data": {
            "text/plain": [
              "{'Hadoop', 'Java', 'R', 'SAS', 'Scala', 'Tableau'}"
            ]
          },
          "metadata": {
            "tags": []
          },
          "execution_count": 15
        }
      ]
    },
    {
      "metadata": {
        "id": "qxyT_HvL0pvA",
        "colab_type": "code",
        "colab": {
          "base_uri": "https://localhost:8080/",
          "height": 36
        },
        "outputId": "eed033c9-d225-4cf9-a1ea-81ffd250ad25"
      },
      "cell_type": "code",
      "source": [
        "# Initialize a list\n",
        "possibleList = ['Python', 'R', 'SQL', 'Git', 'Tableau', 'SAS', 'Java', 'Spark', 'Scala']\n",
        "\n",
        "# Membership test\n",
        "'Python' in possibleList"
      ],
      "execution_count": 16,
      "outputs": [
        {
          "output_type": "execute_result",
          "data": {
            "text/plain": [
              "True"
            ]
          },
          "metadata": {
            "tags": []
          },
          "execution_count": 16
        }
      ]
    },
    {
      "metadata": {
        "id": "bx95g_c00vOS",
        "colab_type": "code",
        "colab": {}
      },
      "cell_type": "code",
      "source": [
        "possibleSkills = {'Python', 'R', 'SQL', 'Git', 'Tableau', 'SAS'}\n",
        "mySkills = {'Python', 'R'}"
      ],
      "execution_count": 0,
      "outputs": []
    },
    {
      "metadata": {
        "id": "ctq4ea6q0xCV",
        "colab_type": "code",
        "colab": {}
      },
      "cell_type": "code",
      "source": [
        "mySkills.issubset(possibleSkills)"
      ],
      "execution_count": 0,
      "outputs": []
    },
    {
      "metadata": {
        "id": "AGy0vFAz01Ne",
        "colab_type": "text"
      },
      "cell_type": "markdown",
      "source": [
        "##Tarea\n",
        "\n",
        "\n",
        "\n",
        "1.   Crear tres grupos (ejem: Casas de Game of Thrones). Maximo 4 elementos\n",
        "2.   Aplicar operaciones de inteseccion, union, diferencia, pertenencia.\n",
        "3.   Enviar al correo ezequiel.aguilar@utp.ac.pa\n",
        "\n"
      ]
    }
  ]
}