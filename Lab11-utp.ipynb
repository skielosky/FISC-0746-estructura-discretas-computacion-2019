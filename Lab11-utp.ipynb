{
 "cells": [
  {
   "cell_type": "code",
   "execution_count": 1,
   "metadata": {
    "colab": {},
    "colab_type": "code",
    "id": "spULE2CXuA8V"
   },
   "outputs": [],
   "source": [
    "from collections import defaultdict, namedtuple, Counter, deque\n",
    "import csv\n",
    "import random\n",
    "from urllib.request import urlretrieve"
   ]
  },
  {
   "cell_type": "code",
   "execution_count": 33,
   "metadata": {
    "colab": {
     "base_uri": "https://localhost:8080/",
     "height": 35
    },
    "colab_type": "code",
    "id": "sNAUC7PbuHzE",
    "outputId": "25d508f7-ed34-404a-e434-2f7b4c9c5717"
   },
   "outputs": [
    {
     "data": {
      "text/plain": [
       "('movies.csv', <http.client.HTTPMessage at 0x2693b05ab38>)"
      ]
     },
     "execution_count": 33,
     "metadata": {},
     "output_type": "execute_result"
    }
   ],
   "source": [
    "pelicula_data = 'https://raw.githubusercontent.com/skielosky/FISC-0746-estructura-discretas-computacion-2019/master/laboratorios/secuencias/peliculas_metadata.csv'\n",
    "pelicula_csv = 'movies.csv'\n",
    "urlretrieve(pelicula_data, pelicula_csv)"
   ]
  },
  {
   "cell_type": "code",
   "execution_count": 34,
   "metadata": {
    "colab": {},
    "colab_type": "code",
    "id": "4Y8Iedg0uat7"
   },
   "outputs": [],
   "source": [
    "pelicula = namedtuple('Peliculas', 'title year score')"
   ]
  },
  {
   "cell_type": "code",
   "execution_count": 4,
   "metadata": {
    "colab": {},
    "colab_type": "code",
    "id": "IMqnFwnkv0cM"
   },
   "outputs": [],
   "source": [
    "def obtener_peliculas_por_director(data=pelicula_csv):\n",
    "    \"\"\"Extracts all movies from csv and stores them in a dictionary\n",
    "       where keys are directors, and values is a list of movies (named tuples)\"\"\"\n",
    "    directors = defaultdict(list)\n",
    "    with open(data, encoding='utf-8') as f:\n",
    "        for line in csv.DictReader(f):\n",
    "            try:\n",
    "                director = line['director_name']\n",
    "                movie = line['movie_title'].replace('\\xa0', '')\n",
    "                year = int(line['title_year'])\n",
    "                score = float(line['imdb_score'])\n",
    "            except ValueError:\n",
    "                continue\n",
    "\n",
    "            m = pelicula(title=movie, year=year, score=score)\n",
    "            directors[director].append(m)\n",
    "\n",
    "    return directors"
   ]
  },
  {
   "cell_type": "code",
   "execution_count": 7,
   "metadata": {
    "colab": {},
    "colab_type": "code",
    "id": "biL0LNClwGnc"
   },
   "outputs": [],
   "source": [
    "directores = obtener_peliculas_por_director()"
   ]
  },
  {
   "cell_type": "markdown",
   "metadata": {
    "colab": {},
    "colab_type": "code",
    "id": "T66-NUFgwaC6"
   },
   "source": [
    "## Tarea 01\n",
    "1.\tPor Director: Nombre, Año y Rating de la película con mejor Rating\n",
    "2.\tPor Director: promedio de rating\n",
    "3.\tDirector con el mejor rating\n",
    "4.\tLista de películas estrenadas en el 2018\n",
    "5.\tMejor Película del 2018\n",
    "6.\tDirector con el mejor rating en el 2018\n"
   ]
  },
  {
   "cell_type": "code",
   "execution_count": null,
   "metadata": {},
   "outputs": [],
   "source": []
  },
  {
   "cell_type": "code",
   "execution_count": null,
   "metadata": {},
   "outputs": [],
   "source": []
  }
 ],
 "metadata": {
  "colab": {
   "name": "Lab10.ipynb",
   "provenance": [],
   "version": "0.3.2"
  },
  "kernelspec": {
   "display_name": "Python 3",
   "language": "python",
   "name": "python3"
  },
  "language_info": {
   "codemirror_mode": {
    "name": "ipython",
    "version": 3
   },
   "file_extension": ".py",
   "mimetype": "text/x-python",
   "name": "python",
   "nbconvert_exporter": "python",
   "pygments_lexer": "ipython3",
   "version": "3.7.3"
  }
 },
 "nbformat": 4,
 "nbformat_minor": 1
}
